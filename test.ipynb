{
 "cells": [
  {
   "cell_type": "code",
   "execution_count": 7,
   "metadata": {},
   "outputs": [],
   "source": [
    "from requests_oauthlib import OAuth2Session\n",
    "from dotenv import load_dotenv\n",
    "import os"
   ]
  },
  {
   "cell_type": "code",
   "execution_count": null,
   "metadata": {},
   "outputs": [
    {
     "data": {
      "text/plain": [
       "True"
      ]
     },
     "execution_count": 8,
     "metadata": {},
     "output_type": "execute_result"
    }
   ],
   "source": [
    "load_dotenv()\n",
    "os.environ['OAUTHLIB_INSECURE_TRANSPORT'] = '1'"
   ]
  },
  {
   "cell_type": "code",
   "execution_count": null,
   "metadata": {},
   "outputs": [],
   "source": [
    "client_id = os.getenv('CLIENT_ID')\n",
    "client_secret = os.getenv('CLIENT_SECRET')\n",
    "redirect_url = \"http://localhost:3000/\"\n",
    "\n",
    "session = OAuth2Session(client_id=client_id, redirect_uri=redirect_url)"
   ]
  },
  {
   "cell_type": "code",
   "execution_count": 10,
   "metadata": {},
   "outputs": [],
   "source": [
    "auth_base_url = \"https://www.strava.com/oauth/authorize\"\n",
    "session.scope = [\"profile:read_all\"]\n",
    "auth_link = session.authorization_url(auth_base_url)"
   ]
  },
  {
   "cell_type": "code",
   "execution_count": 11,
   "metadata": {},
   "outputs": [
    {
     "name": "stdout",
     "output_type": "stream",
     "text": [
      "Click Here: https://www.strava.com/oauth/authorize?response_type=code&client_id=149946&redirect_uri=http%3A%2F%2Flocalhost%3A3000%2F&scope=profile%3Aread_all&state=7ESuWpSRgkZfK42AEqgoN4T0aeIlE7\n"
     ]
    }
   ],
   "source": [
    "print(f\"Click Here: {auth_link[0]}\")\n",
    "redirect_response = input(f\"Paste redirect url here: \")"
   ]
  },
  {
   "cell_type": "code",
   "execution_count": 12,
   "metadata": {},
   "outputs": [
    {
     "ename": "InsecureTransportError",
     "evalue": "(insecure_transport) OAuth 2 MUST utilize https.",
     "output_type": "error",
     "traceback": [
      "\u001b[1;31m---------------------------------------------------------------------------\u001b[0m",
      "\u001b[1;31mInsecureTransportError\u001b[0m                    Traceback (most recent call last)",
      "Cell \u001b[1;32mIn[12], line 2\u001b[0m\n\u001b[0;32m      1\u001b[0m token_url \u001b[38;5;241m=\u001b[39m \u001b[38;5;124m\"\u001b[39m\u001b[38;5;124mhttps://www.strava.com/api/v3/oauth/token\u001b[39m\u001b[38;5;124m\"\u001b[39m\n\u001b[1;32m----> 2\u001b[0m session\u001b[38;5;241m.\u001b[39mfetch_token(\n\u001b[0;32m      3\u001b[0m     token_url\u001b[38;5;241m=\u001b[39mtoken_url,\n\u001b[0;32m      4\u001b[0m     client_id\u001b[38;5;241m=\u001b[39mclient_id,\n\u001b[0;32m      5\u001b[0m     client_secret\u001b[38;5;241m=\u001b[39mclient_secret,\n\u001b[0;32m      6\u001b[0m     authorization_response\u001b[38;5;241m=\u001b[39mredirect_response,\n\u001b[0;32m      7\u001b[0m     include_client_id\u001b[38;5;241m=\u001b[39m\u001b[38;5;28;01mTrue\u001b[39;00m\n\u001b[0;32m      8\u001b[0m )\n",
      "File \u001b[1;32mc:\\Users\\reece\\anaconda3\\Lib\\site-packages\\requests_oauthlib\\oauth2_session.py:271\u001b[0m, in \u001b[0;36mOAuth2Session.fetch_token\u001b[1;34m(self, token_url, code, authorization_response, body, auth, username, password, method, force_querystring, timeout, headers, verify, proxies, include_client_id, client_secret, cert, **kwargs)\u001b[0m\n\u001b[0;32m    268\u001b[0m     \u001b[38;5;28;01mraise\u001b[39;00m InsecureTransportError()\n\u001b[0;32m    270\u001b[0m \u001b[38;5;28;01mif\u001b[39;00m \u001b[38;5;129;01mnot\u001b[39;00m code \u001b[38;5;129;01mand\u001b[39;00m authorization_response:\n\u001b[1;32m--> 271\u001b[0m     \u001b[38;5;28mself\u001b[39m\u001b[38;5;241m.\u001b[39m_client\u001b[38;5;241m.\u001b[39mparse_request_uri_response(\n\u001b[0;32m    272\u001b[0m         authorization_response, state\u001b[38;5;241m=\u001b[39m\u001b[38;5;28mself\u001b[39m\u001b[38;5;241m.\u001b[39m_state\n\u001b[0;32m    273\u001b[0m     )\n\u001b[0;32m    274\u001b[0m     code \u001b[38;5;241m=\u001b[39m \u001b[38;5;28mself\u001b[39m\u001b[38;5;241m.\u001b[39m_client\u001b[38;5;241m.\u001b[39mcode\n\u001b[0;32m    275\u001b[0m \u001b[38;5;28;01melif\u001b[39;00m \u001b[38;5;129;01mnot\u001b[39;00m code \u001b[38;5;129;01mand\u001b[39;00m \u001b[38;5;28misinstance\u001b[39m(\u001b[38;5;28mself\u001b[39m\u001b[38;5;241m.\u001b[39m_client, WebApplicationClient):\n",
      "File \u001b[1;32mc:\\Users\\reece\\anaconda3\\Lib\\site-packages\\oauthlib\\oauth2\\rfc6749\\clients\\web_application.py:220\u001b[0m, in \u001b[0;36mWebApplicationClient.parse_request_uri_response\u001b[1;34m(self, uri, state)\u001b[0m\n\u001b[0;32m    176\u001b[0m \u001b[38;5;28;01mdef\u001b[39;00m \u001b[38;5;21mparse_request_uri_response\u001b[39m(\u001b[38;5;28mself\u001b[39m, uri, state\u001b[38;5;241m=\u001b[39m\u001b[38;5;28;01mNone\u001b[39;00m):\n\u001b[0;32m    177\u001b[0m \u001b[38;5;250m    \u001b[39m\u001b[38;5;124;03m\"\"\"Parse the URI query for code and state.\u001b[39;00m\n\u001b[0;32m    178\u001b[0m \n\u001b[0;32m    179\u001b[0m \u001b[38;5;124;03m    If the resource owner grants the access request, the authorization\u001b[39;00m\n\u001b[1;32m   (...)\u001b[0m\n\u001b[0;32m    218\u001b[0m \u001b[38;5;124;03m        oauthlib.oauth2.rfc6749.errors.MismatchingStateError\u001b[39;00m\n\u001b[0;32m    219\u001b[0m \u001b[38;5;124;03m    \"\"\"\u001b[39;00m\n\u001b[1;32m--> 220\u001b[0m     response \u001b[38;5;241m=\u001b[39m parse_authorization_code_response(uri, state\u001b[38;5;241m=\u001b[39mstate)\n\u001b[0;32m    221\u001b[0m     \u001b[38;5;28mself\u001b[39m\u001b[38;5;241m.\u001b[39mpopulate_code_attributes(response)\n\u001b[0;32m    222\u001b[0m     \u001b[38;5;28;01mreturn\u001b[39;00m response\n",
      "File \u001b[1;32mc:\\Users\\reece\\anaconda3\\Lib\\site-packages\\oauthlib\\oauth2\\rfc6749\\parameters.py:272\u001b[0m, in \u001b[0;36mparse_authorization_code_response\u001b[1;34m(uri, state)\u001b[0m\n\u001b[0;32m    234\u001b[0m \u001b[38;5;250m\u001b[39m\u001b[38;5;124;03m\"\"\"Parse authorization grant response URI into a dict.\u001b[39;00m\n\u001b[0;32m    235\u001b[0m \n\u001b[0;32m    236\u001b[0m \u001b[38;5;124;03mIf the resource owner grants the access request, the authorization\u001b[39;00m\n\u001b[1;32m   (...)\u001b[0m\n\u001b[0;32m    269\u001b[0m \n\u001b[0;32m    270\u001b[0m \u001b[38;5;124;03m\"\"\"\u001b[39;00m\n\u001b[0;32m    271\u001b[0m \u001b[38;5;28;01mif\u001b[39;00m \u001b[38;5;129;01mnot\u001b[39;00m is_secure_transport(uri):\n\u001b[1;32m--> 272\u001b[0m     \u001b[38;5;28;01mraise\u001b[39;00m InsecureTransportError()\n\u001b[0;32m    274\u001b[0m query \u001b[38;5;241m=\u001b[39m urlparse\u001b[38;5;241m.\u001b[39murlparse(uri)\u001b[38;5;241m.\u001b[39mquery\n\u001b[0;32m    275\u001b[0m params \u001b[38;5;241m=\u001b[39m \u001b[38;5;28mdict\u001b[39m(urlparse\u001b[38;5;241m.\u001b[39mparse_qsl(query))\n",
      "\u001b[1;31mInsecureTransportError\u001b[0m: (insecure_transport) OAuth 2 MUST utilize https."
     ]
    }
   ],
   "source": [
    "token_url = \"https://www.strava.com/api/v3/oauth/token\"\n",
    "session.fetch_token(\n",
    "    token_url=token_url,\n",
    "    client_id=client_id,\n",
    "    client_secret=client_secret,\n",
    "    authorization_response=redirect_response,\n",
    "    include_client_id=True\n",
    ")"
   ]
  },
  {
   "cell_type": "code",
   "execution_count": null,
   "metadata": {},
   "outputs": [],
   "source": [
    "response = session.get(\"https://www.strava.com/api/v3/athlete\")\n",
    "\n",
    "print(\"\\n\\n\\n\")\n",
    "print(f\"Response Status: {response.status_code}\")\n",
    "print(f\"Response Reason: {response.reason}\")\n",
    "print(f\"Time Elaspsed: {response.elapsed}\")\n",
    "print(f\"Response Text: \\n{'-'*15}\\n{response.text}\")"
   ]
  }
 ],
 "metadata": {
  "kernelspec": {
   "display_name": "base",
   "language": "python",
   "name": "python3"
  },
  "language_info": {
   "codemirror_mode": {
    "name": "ipython",
    "version": 3
   },
   "file_extension": ".py",
   "mimetype": "text/x-python",
   "name": "python",
   "nbconvert_exporter": "python",
   "pygments_lexer": "ipython3",
   "version": "3.11.7"
  }
 },
 "nbformat": 4,
 "nbformat_minor": 2
}
