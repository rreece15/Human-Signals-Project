{
 "cells": [
  {
   "cell_type": "code",
   "execution_count": 1,
   "metadata": {},
   "outputs": [],
   "source": [
    "from requests_oauthlib import OAuth2Session\n",
    "from __future__ import print_function\n",
    "from dotenv import load_dotenv\n",
    "import os"
   ]
  },
  {
   "cell_type": "code",
   "execution_count": 2,
   "metadata": {},
   "outputs": [],
   "source": [
    "load_dotenv()\n",
    "os.environ['OAUTHLIB_INSECURE_TRANSPORT'] = '1'"
   ]
  },
  {
   "cell_type": "code",
   "execution_count": 3,
   "metadata": {},
   "outputs": [],
   "source": [
    "client_id = os.getenv('CLIENT_ID')\n",
    "client_secret = os.getenv('CLIENT_SECRET')\n",
    "redirect_url = \"http://localhost:3000/\"\n",
    "\n",
    "session = OAuth2Session(client_id=client_id, redirect_uri=redirect_url)"
   ]
  },
  {
   "cell_type": "code",
   "execution_count": 4,
   "metadata": {},
   "outputs": [],
   "source": [
    "auth_base_url = \"https://www.strava.com/oauth/authorize\"\n",
    "session.scope = [\"profile:read_all\"]\n",
    "auth_link = session.authorization_url(auth_base_url)"
   ]
  },
  {
   "cell_type": "code",
   "execution_count": 5,
   "metadata": {},
   "outputs": [
    {
     "name": "stdout",
     "output_type": "stream",
     "text": [
      "Click Here: https://www.strava.com/oauth/authorize?response_type=code&client_id=149946&redirect_uri=http%3A%2F%2Flocalhost%3A3000%2F&scope=profile%3Aread_all&state=NwaJs9GKEA2YSag6vuEBZNNnURSRGc\n"
     ]
    }
   ],
   "source": [
    "print(f\"Click Here: {auth_link[0]}\")\n",
    "redirect_response = input(f\"Paste redirect url here: \")"
   ]
  },
  {
   "cell_type": "code",
   "execution_count": 6,
   "metadata": {},
   "outputs": [
    {
     "data": {
      "text/plain": [
       "{'token_type': 'Bearer',\n",
       " 'expires_at': 1740449194.258669,\n",
       " 'expires_in': 9392,\n",
       " 'refresh_token': '7b81fbca0976060aae31d6c1574a59b2dbf08e66',\n",
       " 'access_token': '7b3ac45a8d443ca44c89d2f75b72a5a0571a73af',\n",
       " 'athlete': {'id': 128420273,\n",
       "  'username': 'reece_riherd',\n",
       "  'resource_state': 2,\n",
       "  'firstname': 'Reece',\n",
       "  'lastname': 'Riherd',\n",
       "  'bio': None,\n",
       "  'city': 'Austin',\n",
       "  'state': 'Texas',\n",
       "  'country': 'United States',\n",
       "  'sex': 'M',\n",
       "  'premium': False,\n",
       "  'summit': False,\n",
       "  'created_at': '2023-12-10T16:22:25Z',\n",
       "  'updated_at': '2025-01-28T17:03:58Z',\n",
       "  'badge_type_id': 0,\n",
       "  'weight': 83.9146,\n",
       "  'profile_medium': 'https://dgalywyr863hv.cloudfront.net/pictures/athletes/128420273/33271248/1/medium.jpg',\n",
       "  'profile': 'https://dgalywyr863hv.cloudfront.net/pictures/athletes/128420273/33271248/1/large.jpg',\n",
       "  'friend': None,\n",
       "  'follower': None}}"
      ]
     },
     "execution_count": 6,
     "metadata": {},
     "output_type": "execute_result"
    }
   ],
   "source": [
    "token_url = \"https://www.strava.com/api/v3/oauth/token\"\n",
    "session.fetch_token(\n",
    "    token_url=token_url,\n",
    "    client_id=client_id,\n",
    "    client_secret=client_secret,\n",
    "    authorization_response=redirect_response,\n",
    "    include_client_id=True\n",
    ")"
   ]
  },
  {
   "cell_type": "code",
   "execution_count": 7,
   "metadata": {},
   "outputs": [
    {
     "name": "stdout",
     "output_type": "stream",
     "text": [
      "\n",
      "\n",
      "\n",
      "\n",
      "Response Status: 200\n",
      "Response Reason: OK\n",
      "Time Elaspsed: 0:00:00.203284\n",
      "Response Text: \n",
      "---------------\n",
      "{\"id\":128420273,\"username\":\"reece_riherd\",\"resource_state\":3,\"firstname\":\"Reece\",\"lastname\":\"Riherd\",\"bio\":null,\"city\":\"Austin\",\"state\":\"Texas\",\"country\":\"United States\",\"sex\":\"M\",\"premium\":false,\"summit\":false,\"created_at\":\"2023-12-10T16:22:25Z\",\"updated_at\":\"2025-01-28T17:03:58Z\",\"badge_type_id\":0,\"weight\":83.9146,\"profile_medium\":\"https://dgalywyr863hv.cloudfront.net/pictures/athletes/128420273/33271248/1/medium.jpg\",\"profile\":\"https://dgalywyr863hv.cloudfront.net/pictures/athletes/128420273/33271248/1/large.jpg\",\"friend\":null,\"follower\":null,\"blocked\":false,\"can_follow\":true,\"follower_count\":10,\"friend_count\":10,\"mutual_friend_count\":0,\"athlete_type\":1,\"date_preference\":\"%m/%d/%Y\",\"measurement_preference\":\"feet\",\"clubs\":[{\"id\":1211475,\"resource_state\":2,\"name\":\"Red Bull USA\",\"profile_medium\":\"https://dgalywyr863hv.cloudfront.net/pictures/clubs/1211475/29831199/2/medium.jpg\",\"profile\":\"https://dgalywyr863hv.cloudfront.net/pictures/clubs/1211475/29831199/2/large.jpg\",\"cover_photo\":\"https://dgalywyr863hv.cloudfront.net/pictures/clubs/1211475/29831325/9/large.jpg\",\"cover_photo_small\":\"https://dgalywyr863hv.cloudfront.net/pictures/clubs/1211475/29831325/9/small.jpg\",\"activity_types\":[],\"activity_types_icon\":\"sports_multi_normal\",\"dimensions\":[\"moving_time\",\"num_activities\",\"distance\",\"elev_gain\"],\"sport_type\":\"other\",\"localized_sport_type\":\"Multisport\",\"city\":\"Santa Monica\",\"state\":\"California\",\"country\":\"United States\",\"private\":false,\"member_count\":0,\"featured\":false,\"verified\":true,\"url\":\"redbullusa\",\"membership\":\"member\",\"admin\":false,\"owner\":false}],\"postable_clubs_count\":0,\"ftp\":null,\"bikes\":[],\"shoes\":[{\"id\":\"g16112256\",\"primary\":false,\"name\":\"Saucony Triumph 21\",\"nickname\":null,\"resource_state\":2,\"retired\":false,\"distance\":955068,\"converted_distance\":593.5}],\"is_winback_via_upload\":false,\"is_winback_via_view\":false}\n"
     ]
    }
   ],
   "source": [
    "response = session.get(\"https://www.strava.com/api/v3/athlete\")\n",
    "\n",
    "print(\"\\n\\n\\n\")\n",
    "print(f\"Response Status: {response.status_code}\")\n",
    "print(f\"Response Reason: {response.reason}\")\n",
    "print(f\"Time Elaspsed: {response.elapsed}\")\n",
    "print(f\"Response Text: \\n{'-'*15}\\n{response.text}\")"
   ]
  },
  {
   "cell_type": "code",
   "execution_count": 8,
   "metadata": {},
   "outputs": [],
   "source": [
    "import swagger_client\n",
    "from swagger_client.rest import ApiException"
   ]
  },
  {
   "cell_type": "code",
   "execution_count": 13,
   "metadata": {},
   "outputs": [
    {
     "name": "stdout",
     "output_type": "stream",
     "text": [
      "Exception when calling AthletesApi->GetLoggedInAthlete: (401)\n",
      "Reason: Unauthorized\n",
      "HTTP response headers: HTTPHeaderDict({'Content-Type': 'application/json; charset=utf-8', 'Transfer-Encoding': 'chunked', 'Connection': 'keep-alive', 'Date': 'Mon, 24 Feb 2025 23:36:18 GMT', 'x-envoy-upstream-service-time': '11', 'server': 'istio-envoy', 'status': '401 Unauthorized', 'cache-control': 'no-cache', 'vary': 'Accept, Origin', 'referrer-policy': 'strict-origin-when-cross-origin', 'x-permitted-cross-domain-policies': 'none', 'x-xss-protection': '1; mode=block', 'x-request-id': 'f781ccc1-b2fc-40ab-8df4-eb1095f9bb41', 'x-download-options': 'noopen', 'x-frame-options': 'DENY', 'x-content-type-options': 'nosniff', 'X-Cache': 'Error from cloudfront', 'Via': '1.1 de5b3982238ab48d8f37b67aced1f5ee.cloudfront.net (CloudFront)', 'X-Amz-Cf-Pop': 'DFW57-P8', 'X-Amz-Cf-Id': 'j3rDAV_fJWIdM1P3gXRqgeAk5kuyu9VLUVUtKCYn0RNruwfuVmZR3w=='})\n",
      "HTTP response body: {\"message\":\"Authorization Error\",\"errors\":[{\"resource\":\"Athlete\",\"field\":\"access_token\",\"code\":\"invalid\"}]}\n",
      "\n",
      "\n"
     ]
    }
   ],
   "source": [
    "swagger_client.configuration.access_token = '7b3ac45a8d443ca44c89d2f75b72a5a0571a73af'\n",
    "\n",
    "# create an instance of the API class\n",
    "api_instance = swagger_client.AthletesApi()\n",
    "\n",
    "try: \n",
    "    # Get Authenticated Athlete\n",
    "    api_response = api_instance.get_logged_in_athlete_with_http_info()\n",
    "    print(api_response)\n",
    "except ApiException as e:\n",
    "    print(\"Exception when calling AthletesApi->GetLoggedInAthlete: %s\\n\" % e)"
   ]
  },
  {
   "cell_type": "code",
   "execution_count": 14,
   "metadata": {},
   "outputs": [
    {
     "name": "stderr",
     "output_type": "stream",
     "text": [
      "ERROR:root:Please make sure your STRAVA_CLIENT_ID is set in your environment.\n",
      "WARNING:root:STRAVA_CLIENT_ID and STRAVA_CLIENT_SECRET not found in your  environment. Please refresh your access_token manually. Or add STRAVA_CLIENT_ID and STRAVA_CLIENT_SECRET to your environment.\n"
     ]
    },
    {
     "name": "stdout",
     "output_type": "stream",
     "text": [
      "bound_client=<stravalib.client.Client object at 0x000001CA826ADC50> id=128420273 city='Austin' country='United States' created_at=datetime.datetime(2023, 12, 10, 16, 22, 25, tzinfo=TzInfo(UTC)) firstname='Reece' lastname='Riherd' premium=False profile='https://dgalywyr863hv.cloudfront.net/pictures/athletes/128420273/33271248/1/large.jpg' profile_medium='https://dgalywyr863hv.cloudfront.net/pictures/athletes/128420273/33271248/1/medium.jpg' resource_state=3 sex='M' state='Texas' summit=False updated_at=datetime.datetime(2025, 1, 28, 17, 3, 58, tzinfo=TzInfo(UTC)) bikes=[] clubs=[SummaryClub(bound_client=None, id=1211475, name='Red Bull USA', resource_state=2, activity_types=[], city='Santa Monica', country='United States', cover_photo='https://dgalywyr863hv.cloudfront.net/pictures/clubs/1211475/29831325/9/large.jpg', cover_photo_small='https://dgalywyr863hv.cloudfront.net/pictures/clubs/1211475/29831325/9/small.jpg', featured=False, member_count=0, private=False, profile_medium='https://dgalywyr863hv.cloudfront.net/pictures/clubs/1211475/29831199/2/medium.jpg', sport_type='other', state='California', url='redbullusa', verified=True, profile='https://dgalywyr863hv.cloudfront.net/pictures/clubs/1211475/29831199/2/large.jpg', description=None, club_type=None)] follower_count=10 friend_count=10 ftp=None measurement_preference='feet' shoes=[SummaryGear(distance=955068.0, id='g16112256', name='Saucony Triumph 21', primary=False, resource_state=2)] weight=83.9146 athlete_type='runner' friend=None follower=None approve_followers=None badge_type_id=0 mutual_friend_count=0 date_preference='%m/%d/%Y' email=None super_user=None email_language=None max_heartrate=None username='reece_riherd' description=None instagram_username=None offer_in_app_payment=None global_privacy=None receive_newsletter=None email_kom_lost=None dateofbirth=None facebook_sharing_enabled=None profile_original=None premium_expiration_date=None email_send_follower_notices=None plan=None agreed_to_terms=None follower_request_count=None email_facebook_twitter_friend_joins=None receive_kudos_emails=None receive_follower_feed_emails=None receive_comment_emails=None sample_race_distance=None sample_race_time=None membership=None admin=None owner=None subscription_permissions=None\n"
     ]
    }
   ],
   "source": [
    "from stravalib import Client\n",
    "client = Client(access_token='7b3ac45a8d443ca44c89d2f75b72a5a0571a73af')\n",
    "athlete = client.get_athlete()\n",
    "print(athlete)"
   ]
  }
 ],
 "metadata": {
  "kernelspec": {
   "display_name": "base",
   "language": "python",
   "name": "python3"
  },
  "language_info": {
   "codemirror_mode": {
    "name": "ipython",
    "version": 3
   },
   "file_extension": ".py",
   "mimetype": "text/x-python",
   "name": "python",
   "nbconvert_exporter": "python",
   "pygments_lexer": "ipython3",
   "version": "3.11.7"
  }
 },
 "nbformat": 4,
 "nbformat_minor": 2
}
